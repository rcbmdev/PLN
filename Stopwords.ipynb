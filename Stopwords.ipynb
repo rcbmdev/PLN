{
 "cells": [
  {
   "cell_type": "markdown",
   "metadata": {},
   "source": [
    "# Idioma Inglês"
   ]
  },
  {
   "cell_type": "code",
   "execution_count": 6,
   "metadata": {},
   "outputs": [
    {
     "name": "stdout",
     "output_type": "stream",
     "text": [
      "{'yours', 'to', 'are', 'into', 'whom', 'mustn', \"needn't\", 'once', \"you're\", 'out', \"hasn't\", \"won't\", \"you've\", 'who', \"didn't\", 'couldn', \"it's\", 'between', \"mightn't\", 'myself', 'didn', \"shouldn't\", 'on', \"you'll\", 'after', 'any', 'isn', 'the', 'if', 'doesn', 'he', 'what', 'because', 'am', 'down', 'does', 'all', 'not', 'were', \"wouldn't\", \"haven't\", 'why', 'most', \"that'll\", \"doesn't\", 'this', 'for', 'do', 'yourself', 'wouldn', \"wasn't\", 'and', 'having', \"weren't\", 'each', 'too', 'needn', 'same', 'yourselves', 'hers', 'wasn', 'i', 'no', 'nor', 'which', 'just', \"aren't\", 'from', 'than', 'theirs', 'mightn', 'shan', 'him', 'it', 'ain', 'when', 'we', 'me', 'aren', 'herself', 'haven', 'hasn', 'has', 'themselves', 'should', 'their', 'of', 'by', 'them', 'an', 've', 'be', 'such', 'more', 'doing', 'during', 'a', 'other', 'at', 'own', 'some', 'll', 'as', 'have', 'ours', 'while', \"hadn't\", 'there', 'both', 'my', 'they', 'here', 'so', 'through', 'very', 'under', 'your', \"isn't\", 'or', 'until', 'those', \"she's\", \"mustn't\", 'm', 'with', 'ourselves', 'in', 'had', 'where', 'you', 'over', 'her', 'don', 'did', 'being', 'before', 'only', 'd', 'y', 'was', 't', 'itself', 'hadn', 'ma', 'our', 'o', 'she', 'off', 'how', 'been', 'himself', 'shouldn', 'that', 'now', \"don't\", 'can', 'against', 'will', 'again', 'further', 'is', 'won', 'but', \"shan't\", 'weren', 'up', \"couldn't\", 're', 'about', 'below', 'its', \"should've\", \"you'd\", 'these', 's', 'few', 'his', 'then', 'above'}\n"
     ]
    }
   ],
   "source": [
    "from nltk.corpus import stopwords\n",
    "\n",
    "english_stops = set(stopwords.words('english'))\n",
    "\n",
    "print(english_stops)"
   ]
  },
  {
   "cell_type": "markdown",
   "metadata": {},
   "source": [
    "# Idioma Português"
   ]
  },
  {
   "cell_type": "code",
   "execution_count": 7,
   "metadata": {},
   "outputs": [
    {
     "name": "stdout",
     "output_type": "stream",
     "text": [
      "{'isso', 'seremos', 'sua', 'forem', 'mais', 'até', 'na', 'serão', 'não', 'dela', 'como', 'houverão', 'tuas', 'qual', 'estamos', 'estou', 'tua', 'estivesse', 'há', 'tivéramos', 'por', 'tu', 'hei', 'depois', 'lhe', 'dos', 'nossas', 'estive', 'estivéramos', 'tivesse', 'em', 'aquelas', 'essas', 'teve', 'estavam', 'nem', 'nos', 'tenho', 'estão', 'terá', 'havemos', 'dele', 'tiveram', 'hão', 'estejam', 'muito', 'houvessem', 'fora', 'eram', 'tivera', 'houverei', 'à', 'estiver', 'somos', 'estivessem', 'for', 'do', 'pelas', 'são', 'pelo', 'vocês', 'houveremos', 'minha', 'tivermos', 'num', 'fosse', 'tenha', 'já', 'elas', 'houverem', 'só', 'esteve', 'houvéramos', 'ou', 'sejam', 'tiver', 'meu', 'numa', 'houveriam', 'ao', 'estejamos', 'aos', 'fôssemos', 'no', 'sejamos', 'esteja', 'fossem', 'quando', 'meus', 'terão', 'pela', 'me', 'você', 'suas', 'estivera', 'houvéssemos', 'tivéssemos', 'tinha', 'os', 'tínhamos', 'se', 'nossa', 'um', 'uma', 'das', 'deles', 'estivemos', 'serei', 'terei', 'estiverem', 'também', 'houve', 'este', 'a', 'houveram', 'teus', 'houverá', 'tém', 'houvesse', 'é', 'fui', 'minhas', 'estávamos', 'as', 'estes', 'ela', 'tenhamos', 'para', 'foram', 'aquela', 'tivemos', 'temos', 'estivermos', 'tem', 'seu', 'teriam', 'será', 'esta', 'tive', 'teria', 'teu', 'houvera', 'houvermos', 'de', 'hajamos', 'fôramos', 'seria', 'estiveram', 'estas', 'esses', 'ele', 'esse', 'aqueles', 'houveríamos', 'éramos', 'com', 'vos', 'hajam', 'entre', 'houver', 'estava', 'tinham', 'nas', 'o', 'teremos', 'essa', 'lhes', 'tivessem', 'seus', 'quem', 'formos', 'te', 'estivéssemos', 'sou', 'sem', 'pelos', 'mesmo', 'da', 'mas', 'isto', 'haja', 'era', 'às', 'fomos', 'e', 'seríamos', 'nossos', 'está', 'que', 'eles', 'tiverem', 'aquele', 'aquilo', 'eu', 'houveria', 'delas', 'seriam', 'teríamos', 'nosso', 'houvemos', 'foi', 'tenham', 'seja', 'nós'}\n"
     ]
    }
   ],
   "source": [
    "from nltk.corpus import stopwords\n",
    "\n",
    "portuguese_stops = set(stopwords.words('portuguese'))\n",
    "\n",
    "print(portuguese_stops)"
   ]
  },
  {
   "cell_type": "code",
   "execution_count": 8,
   "metadata": {},
   "outputs": [
    {
     "name": "stdout",
     "output_type": "stream",
     "text": [
      "['Estou', 'estudando', 'sobre', 'tema', 'interesante', 'PLN']\n"
     ]
    }
   ],
   "source": [
    "portuguese_stops = set(stopwords.words('portuguese'))\n",
    "palavras = [\"Estou\", 'estudando', 'sobre', 'um', 'tema', 'interesante', 'em', 'PLN']\n",
    "print([palavra for palavra in palavras if palavra not in portuguese_stops])"
   ]
  }
 ],
 "metadata": {
  "kernelspec": {
   "display_name": "Python 3",
   "language": "python",
   "name": "python3"
  },
  "language_info": {
   "codemirror_mode": {
    "name": "ipython",
    "version": 3
   },
   "file_extension": ".py",
   "mimetype": "text/x-python",
   "name": "python",
   "nbconvert_exporter": "python",
   "pygments_lexer": "ipython3",
   "version": "3.7.6"
  }
 },
 "nbformat": 4,
 "nbformat_minor": 2
}
